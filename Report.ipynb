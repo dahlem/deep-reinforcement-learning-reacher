{
 "cells": [
  {
   "cell_type": "markdown",
   "metadata": {},
   "source": [
    "# Continuous Control\n",
    "\n",
    "---\n",
    "\n",
    "In this notebook, you will learn how to use the Unity ML-Agents environment for the second project of the [Deep Reinforcement Learning Nanodegree](https://www.udacity.com/course/deep-reinforcement-learning-nanodegree--nd893) program.\n",
    "\n",
    "### 1. Start the Environment\n",
    "\n",
    "We begin by importing the necessary packages.  If the code cell below returns an error, please revisit the project instructions to double-check that you have installed [Unity ML-Agents](https://github.com/Unity-Technologies/ml-agents/blob/master/docs/Installation.md) and [NumPy](http://www.numpy.org/)."
   ]
  },
  {
   "cell_type": "code",
   "execution_count": null,
   "metadata": {},
   "outputs": [],
   "source": [
    "from unityagents import UnityEnvironment\n",
    "import numpy as np\n",
    "\n",
    "import logging\n",
    "logging.Formatter('%(asctime)s - %(name)s - %(levelname)s - %(message)s')\n",
    "logger = logging.getLogger()\n",
    "logger.setLevel(logging.WARN)"
   ]
  },
  {
   "cell_type": "markdown",
   "metadata": {},
   "source": [
    "Next, we will start the environment!  **_Before running the code cell below_**, change the `file_name` parameter to match the location of the Unity environment that you downloaded.\n",
    "\n",
    "- **Mac**: `\"path/to/Reacher.app\"`\n",
    "- **Windows** (x86): `\"path/to/Reacher_Windows_x86/Reacher.exe\"`\n",
    "- **Windows** (x86_64): `\"path/to/Reacher_Windows_x86_64/Reacher.exe\"`\n",
    "- **Linux** (x86): `\"path/to/Reacher_Linux/Reacher.x86\"`\n",
    "- **Linux** (x86_64): `\"path/to/Reacher_Linux/Reacher.x86_64\"`\n",
    "- **Linux** (x86, headless): `\"path/to/Reacher_Linux_NoVis/Reacher.x86\"`\n",
    "- **Linux** (x86_64, headless): `\"path/to/Reacher_Linux_NoVis/Reacher.x86_64\"`\n",
    "\n",
    "For instance, if you are using a Mac, then you downloaded `Reacher.app`.  If this file is in the same folder as the notebook, then the line below should appear as follows:\n",
    "```\n",
    "env = UnityEnvironment(file_name=\"Reacher.app\")\n",
    "```"
   ]
  },
  {
   "cell_type": "code",
   "execution_count": null,
   "metadata": {},
   "outputs": [],
   "source": [
    "env = UnityEnvironment(file_name='Reacher.app')"
   ]
  },
  {
   "cell_type": "markdown",
   "metadata": {},
   "source": [
    "Environments contain **_brains_** which are responsible for deciding the actions of their associated agents. Here we check for the first brain available, and set it as the default brain we will be controlling from Python."
   ]
  },
  {
   "cell_type": "code",
   "execution_count": null,
   "metadata": {},
   "outputs": [],
   "source": [
    "# get the default brain\n",
    "brain_name = env.brain_names[0]\n",
    "brain = env.brains[brain_name]"
   ]
  },
  {
   "cell_type": "markdown",
   "metadata": {},
   "source": [
    "### 2. Examine the State and Action Spaces\n",
    "\n",
    "In this environment, a double-jointed arm can move to target locations. A reward of `+0.1` is provided for each step that the agent's hand is in the goal location. Thus, the goal of your agent is to maintain its position at the target location for as many time steps as possible.\n",
    "\n",
    "The observation space consists of `33` variables corresponding to position, rotation, velocity, and angular velocities of the arm.  Each action is a vector with four numbers, corresponding to torque applicable to two joints.  Every entry in the action vector must be a number between `-1` and `1`.\n",
    "\n",
    "Run the code cell below to print some information about the environment."
   ]
  },
  {
   "cell_type": "code",
   "execution_count": null,
   "metadata": {},
   "outputs": [],
   "source": [
    "# reset the environment\n",
    "env_info = env.reset(train_mode=True)[brain_name]\n",
    "\n",
    "# number of agents\n",
    "num_agents = len(env_info.agents)\n",
    "print('Number of agents:', num_agents)\n",
    "\n",
    "# size of each action\n",
    "action_size = brain.vector_action_space_size\n",
    "print('Size of each action:', action_size)\n",
    "\n",
    "# examine the state space \n",
    "states = env_info.vector_observations\n",
    "state_size = states.shape[1]\n",
    "print('There are {} agents. Each observes a state with length: {}'.format(states.shape[0], state_size))\n",
    "print('The state for the first agent looks like:', states[0])"
   ]
  },
  {
   "cell_type": "markdown",
   "metadata": {},
   "source": [
    "### 3. Approach\n",
    "\n",
    "I took my earlier implementation on the __[navigation task](https://github.com/dahlem/deep-reinforcement-learning-navigation)__ and modularized the DDPG RL agent and actor/critic implementations. Both, the actor and critic can be configured to use LayerNorms in order to speed up learning with a larger learning rate. I introduced common random number generators to give each stochastic components its own seed to ensure that each component is decoupled. I used www.random.org to serialize 1000 seeds into a file, which is relayed through a seeds generator API."
   ]
  },
  {
   "cell_type": "markdown",
   "metadata": {},
   "source": [
    "### 4. Experiments\n",
    "\n",
    "In the following sections I am going to present a serious of experiments that lead me to solve this environment. I had a few earlier attempts that performed poorly which I did not include. While I implemented a parallel agent environment, I did not complete a run. The following experiments are conducted on the single-agent environments but the number of udpate rounds is configurable and it works in conjunction with the configuration parameter to learn at every n-th step."
   ]
  },
  {
   "cell_type": "code",
   "execution_count": null,
   "metadata": {},
   "outputs": [],
   "source": [
    "%load_ext autoreload\n",
    "%autoreload 2"
   ]
  },
  {
   "cell_type": "markdown",
   "metadata": {},
   "source": [
    "#### 4.1 First Experiment\n",
    "\n",
    "The first experiment uses a uniform replay buffer and actor/critic architectures with 256/256/64 neurons per layer each. The actor action values are fed into the critic in the second layer (which is also a configuration parameter. Noise is added and weight decay is applied to the critic.\n",
    "\n",
    "This experiment did not result in any learned skill."
   ]
  },
  {
   "cell_type": "code",
   "execution_count": null,
   "metadata": {},
   "outputs": [],
   "source": [
    "import matplotlib.pyplot as plt\n",
    "%matplotlib inline\n",
    "\n",
    "import logging\n",
    "logger = logging.getLogger()\n",
    "logger.setLevel(logging.DEBUG)\n",
    "\n",
    "import pandas as pd\n",
    "\n",
    "import torch.nn.functional as F\n",
    "\n",
    "from rl.ddpg_agent import DDPGAgent\n",
    "from rl.train import train\n",
    "from utils.rnd import Seeds\n",
    "\n",
    "seedGenerator = Seeds('seeds')\n",
    "seedGenerator.next()\n",
    "from rl.buffer import UniformReplayBuffer\n",
    "\n",
    "\n",
    "experience_params = {\n",
    "    'seed': seedGenerator,       # seed for the experience replay buffer\n",
    "    'buffer_size': 100000,        # size of the replay buffer\n",
    "    'batch_size': 128            # batch size sampled from the replay buffer\n",
    "}\n",
    "\n",
    "experienceReplay = UniformReplayBuffer(experience_params)\n",
    "\n",
    "params = {\n",
    "    'name': 'DDPG-1',\n",
    "    'episodes': 2000,            # number of episodes\n",
    "    'maxlen': 100,               # sliding window size of recent scores\n",
    "    'brain_name': brain_name,    # the brain name of the unity environment\n",
    "    'achievement': 30.,           # score at which the environment is considered solved\n",
    "    'environment': env,\n",
    "    'agent_params': {\n",
    "        'experience_replay': experienceReplay,\n",
    "        'seed': seedGenerator,\n",
    "        'num_agents': num_agents,    # number of agents in the environment\n",
    "        'gamma': 0.99,               # discount factor\n",
    "        'tau': 0.001,                # mixing rate soft-update of target parameters\n",
    "        'update_every': 10,        # update every n-th step\n",
    "        'num_updates': 5,            # we don't necessarily need to run as many rounds of updates as there are agents\n",
    "        'add_noise': True,          # add noise using 'noise_params'\n",
    "        'actor_params': {            # actor parameters\n",
    "            'norm': False,\n",
    "            'lr': 0.001,            # learning rate\n",
    "            'state_size': state_size,    # size of the state space\n",
    "            'action_size': action_size,  # size of the action space\n",
    "            'seed': seedGenerator,                # seed of the network architecture\n",
    "            'hidden_layers': [256, 256, 64], # hidden layer neurons\n",
    "            'dropout': 0.05,\n",
    "            'act_fn': [F.leaky_relu, F.leaky_relu, F.tanh]\n",
    "        },\n",
    "        'critic_params': {               # critic parameters\n",
    "            'norm': False,\n",
    "            'lr': 0.001,                 # learning rate\n",
    "            'weight_decay': 0.001,          # weight decay\n",
    "            'state_size': state_size,    # size of the state space\n",
    "            'action_size': action_size,  # size of the action space\n",
    "            'seed': seedGenerator,               # seed of the network architecture\n",
    "            'hidden_layers': [256, 256, 64], # hidden layer neurons\n",
    "            'dropout': 0.05,\n",
    "            'action_layer': 1,\n",
    "            'act_fn': [F.leaky_relu, F.leaky_relu, lambda x: x]\n",
    "        },\n",
    "        'noise_params': {            # parameters for the noisy process\n",
    "            'mu': 0.,                # mean\n",
    "            'theta': 0.15,           # theta value for the ornstein-uhlenbeck process\n",
    "            'sigma': 0.2,            # variance\n",
    "            'seed': seedGenerator,         # seed\n",
    "            'action_size': action_size\n",
    "        }\n",
    "    }\n",
    "}\n",
    "\n",
    "agents = [DDPGAgent(idx=idx, params=params['agent_params']) for idx, a in enumerate(range(num_agents))]\n",
    "\n",
    "scores = train(agents=agents, params=params)\n",
    "\n",
    "df = pd.DataFrame(data={'episode': np.arange(len(scores)), 'DDPG-1': scores})\n",
    "df.to_csv('results/DDPG-1-scores.csv', index=False)"
   ]
  },
  {
   "cell_type": "markdown",
   "metadata": {},
   "source": [
    "#### 4.2 Second Experiments\n",
    "\n",
    "The second experiment uses the same architecture but introduces normalising layers between the linear layers and the activation functions. Since we are using normalising layers we do not apply weight decay to the critic.\n",
    "\n",
    "While this experiment did not solve the environment, it did result in a significant improvement over the previous experiment."
   ]
  },
  {
   "cell_type": "code",
   "execution_count": null,
   "metadata": {},
   "outputs": [],
   "source": [
    "import matplotlib.pyplot as plt\n",
    "%matplotlib inline\n",
    "\n",
    "import logging\n",
    "logger = logging.getLogger()\n",
    "logger.setLevel(logging.DEBUG)\n",
    "\n",
    "import pandas as pd\n",
    "\n",
    "import torch.nn.functional as F\n",
    "\n",
    "from rl.ddpg_agent import DDPGAgent\n",
    "from rl.train import train\n",
    "from utils.rnd import Seeds\n",
    "\n",
    "seedGenerator = Seeds('seeds')\n",
    "seedGenerator.next()\n",
    "from rl.buffer import UniformReplayBuffer\n",
    "\n",
    "\n",
    "experience_params = {\n",
    "    'seed': seedGenerator,       # seed for the experience replay buffer\n",
    "    'buffer_size': 100000,        # size of the replay buffer\n",
    "    'batch_size': 128            # batch size sampled from the replay buffer\n",
    "}\n",
    "\n",
    "experienceReplay = UniformReplayBuffer(experience_params)\n",
    "\n",
    "params = {\n",
    "    'name': 'DDPG-2',\n",
    "    'episodes': 2000,            # number of episodes\n",
    "    'maxlen': 100,               # sliding window size of recent scores\n",
    "    'brain_name': brain_name,    # the brain name of the unity environment\n",
    "    'achievement': 30.,           # score at which the environment is considered solved\n",
    "    'environment': env,\n",
    "    'agent_params': {\n",
    "        'experience_replay': experienceReplay,\n",
    "        'seed': seedGenerator,\n",
    "        'num_agents': num_agents,    # number of agents in the environment\n",
    "        'gamma': 0.99,               # discount factor\n",
    "        'tau': 0.001,                # mixing rate soft-update of target parameters\n",
    "        'update_every': 10,        # update every n-th step\n",
    "        'num_updates': 5,            # we don't necessarily need to run as many rounds of updates as there are agents\n",
    "        'add_noise': True,          # add noise using 'noise_params'\n",
    "        'actor_params': {            # actor parameters\n",
    "            'norm': True,\n",
    "            'lr': 0.001,            # learning rate\n",
    "            'state_size': state_size,    # size of the state space\n",
    "            'action_size': action_size,  # size of the action space\n",
    "            'seed': seedGenerator,                # seed of the network architecture\n",
    "            'hidden_layers': [256, 256, 64], # hidden layer neurons\n",
    "            'dropout': 0.05,\n",
    "            'act_fn': [F.leaky_relu, F.leaky_relu, F.tanh]\n",
    "        },\n",
    "        'critic_params': {               # critic parameters\n",
    "            'norm': True,\n",
    "            'lr': 0.001,                 # learning rate\n",
    "            'weight_decay': 0.0,          # weight decay\n",
    "            'state_size': state_size,    # size of the state space\n",
    "            'action_size': action_size,  # size of the action space\n",
    "            'seed': seedGenerator,               # seed of the network architecture\n",
    "            'hidden_layers': [256, 256, 64], # hidden layer neurons\n",
    "            'dropout': 0.05,\n",
    "            'action_layer': 1,\n",
    "            'act_fn': [F.leaky_relu, F.leaky_relu, lambda x: x]\n",
    "        },\n",
    "        'noise_params': {            # parameters for the noisy process\n",
    "            'mu': 0.,                # mean\n",
    "            'theta': 0.15,           # theta value for the ornstein-uhlenbeck process\n",
    "            'sigma': 0.2,            # variance\n",
    "            'seed': seedGenerator,         # seed\n",
    "            'action_size': action_size\n",
    "        }\n",
    "    }\n",
    "}\n",
    "\n",
    "agents = [DDPGAgent(idx=idx, params=params['agent_params']) for idx, a in enumerate(range(num_agents))]\n",
    "\n",
    "scores = train(agents=agents, params=params)\n",
    "\n",
    "df = pd.DataFrame(data={'episode': np.arange(len(scores)), 'DDPG-2': scores})\n",
    "df.to_csv('results/DDPG-2-scores.csv', index=False)"
   ]
  },
  {
   "cell_type": "markdown",
   "metadata": {},
   "source": [
    "#### 4.3 Third Experiment\n",
    "\n",
    "The third experiment builds on the previous one and increases the neurons in the fully connected layers from 256/256/64 to 512/512/128 neurons.\n",
    "\n",
    "This experiment was solved in 465 episodes."
   ]
  },
  {
   "cell_type": "code",
   "execution_count": null,
   "metadata": {},
   "outputs": [],
   "source": [
    "import matplotlib.pyplot as plt\n",
    "%matplotlib inline\n",
    "\n",
    "import logging\n",
    "logger = logging.getLogger()\n",
    "logger.setLevel(logging.DEBUG)\n",
    "\n",
    "import pandas as pd\n",
    "\n",
    "import torch.nn.functional as F\n",
    "\n",
    "from rl.ddpg_agent import DDPGAgent\n",
    "from rl.train import train\n",
    "from utils.rnd import Seeds\n",
    "\n",
    "seedGenerator = Seeds('seeds')\n",
    "seedGenerator.next()\n",
    "from rl.buffer import UniformReplayBuffer\n",
    "\n",
    "\n",
    "experience_params = {\n",
    "    'seed': seedGenerator,       # seed for the experience replay buffer\n",
    "    'buffer_size': 100000,        # size of the replay buffer\n",
    "    'batch_size': 128            # batch size sampled from the replay buffer\n",
    "}\n",
    "\n",
    "experienceReplay = UniformReplayBuffer(experience_params)\n",
    "\n",
    "params = {\n",
    "    'name': 'DDPG-3',\n",
    "    'episodes': 2000,            # number of episodes\n",
    "    'maxlen': 100,               # sliding window size of recent scores\n",
    "    'brain_name': brain_name,    # the brain name of the unity environment\n",
    "    'achievement': 30.,           # score at which the environment is considered solved\n",
    "    'environment': env,\n",
    "    'agent_params': {\n",
    "        'experience_replay': experienceReplay,\n",
    "        'seed': seedGenerator,\n",
    "        'num_agents': num_agents,    # number of agents in the environment\n",
    "        'gamma': 0.99,               # discount factor\n",
    "        'tau': 0.001,                # mixing rate soft-update of target parameters\n",
    "        'update_every': 10,        # update every n-th step\n",
    "        'num_updates': 5,            # we don't necessarily need to run as many rounds of updates as there are agents\n",
    "        'add_noise': True,          # add noise using 'noise_params'\n",
    "        'actor_params': {            # actor parameters\n",
    "            'norm': True,\n",
    "            'lr': 0.001,            # learning rate\n",
    "            'state_size': state_size,    # size of the state space\n",
    "            'action_size': action_size,  # size of the action space\n",
    "            'seed': seedGenerator,                # seed of the network architecture\n",
    "            'hidden_layers': [512, 512, 128], # hidden layer neurons\n",
    "            'dropout': 0.05,\n",
    "            'act_fn': [F.leaky_relu, F.leaky_relu, F.tanh]\n",
    "        },\n",
    "        'critic_params': {               # critic parameters\n",
    "            'norm': True,\n",
    "            'lr': 0.001,                 # learning rate\n",
    "            'weight_decay': 0.0,          # weight decay\n",
    "            'state_size': state_size,    # size of the state space\n",
    "            'action_size': action_size,  # size of the action space\n",
    "            'seed': seedGenerator,               # seed of the network architecture\n",
    "            'hidden_layers': [512, 512, 128], # hidden layer neurons\n",
    "            'dropout': 0.05,\n",
    "            'action_layer': 1,\n",
    "            'act_fn': [F.leaky_relu, F.leaky_relu, lambda x: x]\n",
    "        },\n",
    "        'noise_params': {            # parameters for the noisy process\n",
    "            'mu': 0.,                # mean\n",
    "            'theta': 0.15,           # theta value for the ornstein-uhlenbeck process\n",
    "            'sigma': 0.2,            # variance\n",
    "            'seed': seedGenerator,         # seed\n",
    "            'action_size': action_size\n",
    "        }\n",
    "    }\n",
    "}\n",
    "\n",
    "agents = [DDPGAgent(idx=idx, params=params['agent_params']) for idx, a in enumerate(range(num_agents))]\n",
    "\n",
    "scores = train(agents=agents, params=params)\n",
    "\n",
    "df = pd.DataFrame(data={'episode': np.arange(len(scores)), 'DDPG-3': scores})\n",
    "df.to_csv('results/DDPG-3-scores.csv', index=False)"
   ]
  },
  {
   "cell_type": "code",
   "execution_count": null,
   "metadata": {},
   "outputs": [],
   "source": [
    "env.close()"
   ]
  },
  {
   "cell_type": "markdown",
   "metadata": {},
   "source": [
    "# Summary\n",
    "\n",
    "Here we summarize the results and show the learning curves over 2000 episodes."
   ]
  },
  {
   "cell_type": "code",
   "execution_count": 1,
   "metadata": {},
   "outputs": [
    {
     "data": {
      "text/plain": [
       "<matplotlib.lines.Line2D at 0x118bea400>"
      ]
     },
     "execution_count": 1,
     "metadata": {},
     "output_type": "execute_result"
    },
    {
     "data": {
      "image/png": "[encoded data removed]",
      "text/plain": [
       "<Figure size 432x288 with 1 Axes>"
      ]
     },
     "metadata": {
      "needs_background": "light"
     },
     "output_type": "display_data"
    }
   ],
   "source": [
    "import matplotlib.pyplot as plt\n",
    "%matplotlib inline\n",
    "\n",
    "import glob\n",
    "import pandas as pd\n",
    "\n",
    "achievementWindow = 100\n",
    "df = pd.concat([pd.read_csv(f) for f in glob.glob('results/*-scores.csv')], axis=1)\n",
    "df = df.loc[:,~df.columns.duplicated()]\n",
    "\n",
    "dfRolling = df.rolling(achievementWindow).mean()\n",
    "dfRolling.plot(x='episode', y=['DDPG-1', 'DDPG-2', 'DDPG-3'], kind='line')\n",
    "solvedAt = dfRolling[dfRolling['DDPG-3']>=30.0].index[0] - achievementWindow\n",
    "plt.axvline(x=solvedAt, color='red')\n",
    "plt.axhline(y=30, color='red')"
   ]
  },
  {
   "cell_type": "code",
   "execution_count": null,
   "metadata": {},
   "outputs": [],
   "source": []
  }
 ],
 "metadata": {
  "kernelspec": {
   "display_name": "drlnd",
   "language": "python",
   "name": "drlnd"
  },
  "language_info": {
   "codemirror_mode": {
    "name": "ipython",
    "version": 3
   },
   "file_extension": ".py",
   "mimetype": "text/x-python",
   "name": "python",
   "nbconvert_exporter": "python",
   "pygments_lexer": "ipython3",
   "version": "3.6.6"
  }
 },
 "nbformat": 4,
 "nbformat_minor": 2
}
